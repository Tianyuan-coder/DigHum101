{
 "cells": [
  {
   "cell_type": "code",
   "execution_count": null,
   "id": "11cbda05",
   "metadata": {},
   "outputs": [],
   "source": [
    "testing windows git push"
   ]
  }
 ],
 "metadata": {
  "language_info": {
   "name": "python"
  }
 },
 "nbformat": 4,
 "nbformat_minor": 5
}
