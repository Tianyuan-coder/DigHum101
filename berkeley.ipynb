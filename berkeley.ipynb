{
 "cells": [
  {
   "cell_type": "code",
   "execution_count": 12,
   "id": "11cbda05",
   "metadata": {},
   "outputs": [
    {
     "name": "stderr",
     "output_type": "stream",
     "text": [
      "[nltk_data] Downloading package stopwords to\n",
      "[nltk_data]     C:\\Users\\Tian\\AppData\\Roaming\\nltk_data...\n",
      "[nltk_data]   Unzipping corpora\\stopwords.zip.\n"
     ]
    }
   ],
   "source": [
    "import pandas as pd\n",
    "import matplotlib.pyplot as plt\n",
    "import nltk\n",
    "nltk.download('stopwords')\n",
    "from nltk.corpus import stopwords\n",
    "from collections import Counter\n",
    "import re\n",
    "\n",
    "df = pd.read_csv('berkeley_2019_sampled.csv')"
   ]
  },
  {
   "cell_type": "code",
   "execution_count": 13,
   "id": "3f5df203",
   "metadata": {},
   "outputs": [
    {
     "data": {
      "text/html": [
       "<div>\n",
       "<style scoped>\n",
       "    .dataframe tbody tr th:only-of-type {\n",
       "        vertical-align: middle;\n",
       "    }\n",
       "\n",
       "    .dataframe tbody tr th {\n",
       "        vertical-align: top;\n",
       "    }\n",
       "\n",
       "    .dataframe thead th {\n",
       "        text-align: right;\n",
       "    }\n",
       "</style>\n",
       "<table border=\"1\" class=\"dataframe\">\n",
       "  <thead>\n",
       "    <tr style=\"text-align: right;\">\n",
       "      <th></th>\n",
       "      <th>Unnamed: 0</th>\n",
       "      <th>body</th>\n",
       "      <th>emo_pred_pos</th>\n",
       "      <th>emo_pred_neu</th>\n",
       "      <th>emo_pred_neg</th>\n",
       "      <th>sentiment_label</th>\n",
       "    </tr>\n",
       "  </thead>\n",
       "  <tbody>\n",
       "    <tr>\n",
       "      <th>0</th>\n",
       "      <td>0</td>\n",
       "      <td>They tried to cut my catalytic converter off w...</td>\n",
       "      <td>0.3639</td>\n",
       "      <td>0.4793</td>\n",
       "      <td>0.1568</td>\n",
       "      <td>neutral</td>\n",
       "    </tr>\n",
       "    <tr>\n",
       "      <th>1</th>\n",
       "      <td>1</td>\n",
       "      <td>With extremely expensive minerals inside.</td>\n",
       "      <td>0.0153</td>\n",
       "      <td>0.2908</td>\n",
       "      <td>0.6939</td>\n",
       "      <td>negative</td>\n",
       "    </tr>\n",
       "    <tr>\n",
       "      <th>2</th>\n",
       "      <td>2</td>\n",
       "      <td>Not gonna lie, I had to google what a Catalyti...</td>\n",
       "      <td>0.1438</td>\n",
       "      <td>0.6108</td>\n",
       "      <td>0.2454</td>\n",
       "      <td>neutral</td>\n",
       "    </tr>\n",
       "    <tr>\n",
       "      <th>3</th>\n",
       "      <td>3</td>\n",
       "      <td>I never have figured out why some cross-listed...</td>\n",
       "      <td>0.1038</td>\n",
       "      <td>0.5491</td>\n",
       "      <td>0.3472</td>\n",
       "      <td>neutral</td>\n",
       "    </tr>\n",
       "    <tr>\n",
       "      <th>4</th>\n",
       "      <td>4</td>\n",
       "      <td>Yes it’s possible but most EE/CS TA’s are not ...</td>\n",
       "      <td>0.0513</td>\n",
       "      <td>0.5154</td>\n",
       "      <td>0.4333</td>\n",
       "      <td>neutral</td>\n",
       "    </tr>\n",
       "    <tr>\n",
       "      <th>...</th>\n",
       "      <td>...</td>\n",
       "      <td>...</td>\n",
       "      <td>...</td>\n",
       "      <td>...</td>\n",
       "      <td>...</td>\n",
       "      <td>...</td>\n",
       "    </tr>\n",
       "    <tr>\n",
       "      <th>28394</th>\n",
       "      <td>28394</td>\n",
       "      <td>You cannot use the swap feature for discussion...</td>\n",
       "      <td>0.0227</td>\n",
       "      <td>0.3030</td>\n",
       "      <td>0.6743</td>\n",
       "      <td>negative</td>\n",
       "    </tr>\n",
       "    <tr>\n",
       "      <th>28395</th>\n",
       "      <td>28395</td>\n",
       "      <td>phase 1 ended so you need to wait for your pha...</td>\n",
       "      <td>0.0420</td>\n",
       "      <td>0.6904</td>\n",
       "      <td>0.2676</td>\n",
       "      <td>neutral</td>\n",
       "    </tr>\n",
       "    <tr>\n",
       "      <th>28396</th>\n",
       "      <td>28396</td>\n",
       "      <td>They try to look at your performance relative ...</td>\n",
       "      <td>0.1984</td>\n",
       "      <td>0.6447</td>\n",
       "      <td>0.1569</td>\n",
       "      <td>neutral</td>\n",
       "    </tr>\n",
       "    <tr>\n",
       "      <th>28397</th>\n",
       "      <td>28397</td>\n",
       "      <td>Reserve a room in mainstacks?</td>\n",
       "      <td>0.0444</td>\n",
       "      <td>0.9044</td>\n",
       "      <td>0.0512</td>\n",
       "      <td>neutral</td>\n",
       "    </tr>\n",
       "    <tr>\n",
       "      <th>28398</th>\n",
       "      <td>28398</td>\n",
       "      <td>It depends on how many units you're taking. If...</td>\n",
       "      <td>0.1002</td>\n",
       "      <td>0.8379</td>\n",
       "      <td>0.0619</td>\n",
       "      <td>neutral</td>\n",
       "    </tr>\n",
       "  </tbody>\n",
       "</table>\n",
       "<p>28399 rows × 6 columns</p>\n",
       "</div>"
      ],
      "text/plain": [
       "       Unnamed: 0                                               body  \\\n",
       "0               0  They tried to cut my catalytic converter off w...   \n",
       "1               1          With extremely expensive minerals inside.   \n",
       "2               2  Not gonna lie, I had to google what a Catalyti...   \n",
       "3               3  I never have figured out why some cross-listed...   \n",
       "4               4  Yes it’s possible but most EE/CS TA’s are not ...   \n",
       "...           ...                                                ...   \n",
       "28394       28394  You cannot use the swap feature for discussion...   \n",
       "28395       28395  phase 1 ended so you need to wait for your pha...   \n",
       "28396       28396  They try to look at your performance relative ...   \n",
       "28397       28397                      Reserve a room in mainstacks?   \n",
       "28398       28398  It depends on how many units you're taking. If...   \n",
       "\n",
       "       emo_pred_pos  emo_pred_neu  emo_pred_neg sentiment_label  \n",
       "0            0.3639        0.4793        0.1568         neutral  \n",
       "1            0.0153        0.2908        0.6939        negative  \n",
       "2            0.1438        0.6108        0.2454         neutral  \n",
       "3            0.1038        0.5491        0.3472         neutral  \n",
       "4            0.0513        0.5154        0.4333         neutral  \n",
       "...             ...           ...           ...             ...  \n",
       "28394        0.0227        0.3030        0.6743        negative  \n",
       "28395        0.0420        0.6904        0.2676         neutral  \n",
       "28396        0.1984        0.6447        0.1569         neutral  \n",
       "28397        0.0444        0.9044        0.0512         neutral  \n",
       "28398        0.1002        0.8379        0.0619         neutral  \n",
       "\n",
       "[28399 rows x 6 columns]"
      ]
     },
     "execution_count": 13,
     "metadata": {},
     "output_type": "execute_result"
    }
   ],
   "source": [
    "def assign_sentiment(row):\n",
    "    sentiments = {\n",
    "        'positive': row['emo_pred_pos'],\n",
    "        'negative': row['emo_pred_neg'],\n",
    "        'neutral': row['emo_pred_neu'],\n",
    "    }\n",
    "    return max(sentiments, key=sentiments.get)\n",
    "\n",
    "df['sentiment_label'] = df.apply(assign_sentiment, axis=1)\n",
    "df"
   ]
  },
  {
   "cell_type": "code",
   "execution_count": 14,
   "id": "1239f52f",
   "metadata": {},
   "outputs": [
    {
     "data": {
      "image/png": "[encoded data removed]",
      "text/plain": [
       "<Figure size 640x480 with 1 Axes>"
      ]
     },
     "metadata": {},
     "output_type": "display_data"
    }
   ],
   "source": [
    "df['sentiment_label'].value_counts().plot(kind='bar', title='Sentiment Distribution')\n",
    "plt.xlabel('Sentiment')\n",
    "plt.ylabel('Number of Comments')\n",
    "plt.show()"
   ]
  },
  {
   "cell_type": "code",
   "execution_count": 15,
   "id": "bf78c655",
   "metadata": {},
   "outputs": [
    {
     "name": "stdout",
     "output_type": "stream",
     "text": [
      "Top 10 Positive Words: [('good', 1063), ('get', 977), ('like', 934), ('also', 800), ('really', 756), ('class', 746), ('people', 720), ('go', 698), ('time', 671), ('one', 652)]\n",
      "Top 10 Negative Words: [('people', 1450), ('like', 1345), ('get', 1071), ('would', 801), ('berkeley', 801), ('think', 744), ('one', 704), ('even', 636), ('know', 635), ('time', 630)]\n"
     ]
    }
   ],
   "source": [
    "stop_words = set(stopwords.words('english'))\n",
    "def get_words(text):\n",
    "    words = re.findall(r'\\b\\w+\\b', str(text).lower())\n",
    "    return [word for word in words if word not in stop_words]\n",
    "\n",
    "pos_words = Counter()\n",
    "neg_words = Counter()\n",
    "\n",
    "\n",
    "for _, row in df.iterrows():\n",
    "    words = get_words(row['body'])\n",
    "    if row['sentiment_label'] == 'positive':\n",
    "        pos_words.update(words)\n",
    "    elif row['sentiment_label'] == 'negative':\n",
    "        neg_words.update(words)\n",
    "\n",
    "print(\"Top 10 Positive Words:\", pos_words.most_common(10))\n",
    "print(\"Top 10 Negative Words:\", neg_words.most_common(10))"
   ]
  },
  {
   "cell_type": "code",
   "execution_count": null,
   "id": "3478df60",
   "metadata": {},
   "outputs": [],
   "source": []
  }
 ],
 "metadata": {
  "kernelspec": {
   "display_name": "Python 3",
   "language": "python",
   "name": "python3"
  },
  "language_info": {
   "codemirror_mode": {
    "name": "ipython",
    "version": 3
   },
   "file_extension": ".py",
   "mimetype": "text/x-python",
   "name": "python",
   "nbconvert_exporter": "python",
   "pygments_lexer": "ipython3",
   "version": "3.11.9"
  }
 },
 "nbformat": 4,
 "nbformat_minor": 5
}
